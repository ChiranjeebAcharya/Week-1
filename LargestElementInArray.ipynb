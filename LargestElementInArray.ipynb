{
  "nbformat": 4,
  "nbformat_minor": 0,
  "metadata": {
    "colab": {
      "provenance": [],
      "authorship_tag": "ABX9TyPnSXhd9VWYBpFjeEpBeZFB",
      "include_colab_link": true
    },
    "kernelspec": {
      "name": "python3",
      "display_name": "Python 3"
    },
    "language_info": {
      "name": "python"
    }
  },
  "cells": [
    {
      "cell_type": "markdown",
      "metadata": {
        "id": "view-in-github",
        "colab_type": "text"
      },
      "source": [
        "<a href=\"https://colab.research.google.com/github/ChiranjeebAcharya/Week-1/blob/main/LargestElementInArray.ipynb\" target=\"_parent\"><img src=\"https://colab.research.google.com/assets/colab-badge.svg\" alt=\"Open In Colab\"/></a>"
      ]
    },
    {
      "cell_type": "code",
      "execution_count": 1,
      "metadata": {
        "colab": {
          "base_uri": "https://localhost:8080/"
        },
        "id": "ocfTBMUtZY1w",
        "outputId": "53118854-e39d-49a5-f09c-f26b86dae456"
      },
      "outputs": [
        {
          "output_type": "stream",
          "name": "stdout",
          "text": [
            "9808\n"
          ]
        }
      ],
      "source": [
        "def largest(arr, n):\n",
        "    mx = arr[0]\n",
        "\n",
        "    # Traverse array elements from second\n",
        "    # and compare every element with\n",
        "    # current max\n",
        "    for i in range(1, n):\n",
        "        if arr[i] > mx:\n",
        "            mx = arr[i]\n",
        "\n",
        "    return mx\n",
        "\n",
        "if __name__ == '__main__':\n",
        "    arr = [10, 324, 45, 90, 9808]\n",
        "    n = len(arr)\n",
        "\n",
        "    ans = largest(arr, n)\n",
        "\n",
        "    print(ans)"
      ]
    }
  ]
}