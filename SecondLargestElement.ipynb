{
  "nbformat": 4,
  "nbformat_minor": 0,
  "metadata": {
    "colab": {
      "provenance": [],
      "authorship_tag": "ABX9TyO+nMVMfty9AnaWAES325aB",
      "include_colab_link": true
    },
    "kernelspec": {
      "name": "python3",
      "display_name": "Python 3"
    },
    "language_info": {
      "name": "python"
    }
  },
  "cells": [
    {
      "cell_type": "markdown",
      "metadata": {
        "id": "view-in-github",
        "colab_type": "text"
      },
      "source": [
        "<a href=\"https://colab.research.google.com/github/ChiranjeebAcharya/Week-1/blob/main/SecondLargestElement.ipynb\" target=\"_parent\"><img src=\"https://colab.research.google.com/assets/colab-badge.svg\" alt=\"Open In Colab\"/></a>"
      ]
    },
    {
      "cell_type": "code",
      "execution_count": 1,
      "metadata": {
        "colab": {
          "base_uri": "https://localhost:8080/"
        },
        "id": "Q4c7YYknaapW",
        "outputId": "5e25f6d3-48c9-4032-85c5-cd02e9d2b258"
      },
      "outputs": [
        {
          "output_type": "stream",
          "name": "stdout",
          "text": [
            "34\n"
          ]
        }
      ],
      "source": [
        "def getSecondLargest(arr):\n",
        "    n = len(arr)\n",
        "    arr.sort()\n",
        "    for i in range(n - 2, -1, -1):\n",
        "        if arr[i] != arr[n - 1]:\n",
        "            return arr[i]\n",
        "    return -1\n",
        "\n",
        "if __name__ == \"__main__\":\n",
        "    arr = [12, 35, 1, 10, 34, 1]\n",
        "    print(getSecondLargest(arr))"
      ]
    }
  ]
}