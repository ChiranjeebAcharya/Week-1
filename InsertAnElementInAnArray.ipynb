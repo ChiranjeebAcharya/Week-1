{
  "nbformat": 4,
  "nbformat_minor": 0,
  "metadata": {
    "colab": {
      "provenance": [],
      "authorship_tag": "ABX9TyMwqCEzbhrkr3GBiWcHI3FP",
      "include_colab_link": true
    },
    "kernelspec": {
      "name": "python3",
      "display_name": "Python 3"
    },
    "language_info": {
      "name": "python"
    }
  },
  "cells": [
    {
      "cell_type": "markdown",
      "metadata": {
        "id": "view-in-github",
        "colab_type": "text"
      },
      "source": [
        "<a href=\"https://colab.research.google.com/github/ChiranjeebAcharya/Week-1/blob/main/InsertAnElementInAnArray.ipynb\" target=\"_parent\"><img src=\"https://colab.research.google.com/assets/colab-badge.svg\" alt=\"Open In Colab\"/></a>"
      ]
    },
    {
      "cell_type": "code",
      "execution_count": null,
      "metadata": {
        "id": "VjeW7bPAtzUI"
      },
      "outputs": [],
      "source": [
        "class Solution:\n",
        "\n",
        "    def insertAtEnd(self, arr, val):\n",
        "        arr.append(val)\n"
      ]
    }
  ]
}